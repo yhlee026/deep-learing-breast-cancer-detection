{
 "cells": [
  {
   "cell_type": "markdown",
   "id": "788145d2-a76f-481b-8e44-0c22998448dd",
   "metadata": {},
   "source": [
    "# Prepare and Categorise Different Cases of MMO Images"
   ]
  },
  {
   "cell_type": "markdown",
   "id": "24b5ca2c-3d29-4b8d-95bc-956ef6fa6f91",
   "metadata": {},
   "source": [
    "## Import and Prepare Neceesary Libraries"
   ]
  },
  {
   "cell_type": "code",
   "execution_count": 2,
   "id": "48b0ac43-6b7e-4e3c-bebd-9a88db38b0e4",
   "metadata": {},
   "outputs": [],
   "source": [
    "import os\n",
    "import pandas as pd\n",
    "import shutil\n",
    "from pathlib import Path\n",
    "from tqdm import tqdm\n",
    "import pydicom\n",
    "import numpy as np\n",
    "from PIL import Image"
   ]
  },
  {
   "cell_type": "markdown",
   "id": "9a59212b-acbf-44cc-aa52-6010be511c01",
   "metadata": {},
   "source": [
    "## Folders and Relative Path Setup "
   ]
  },
  {
   "cell_type": "code",
   "execution_count": 37,
   "id": "31eb0d54-c3d4-45af-984b-29675aeade55",
   "metadata": {},
   "outputs": [],
   "source": [
    "CSV_DIR = \"metadata\"#FOLDERS THAT STORE THE CSV FILE FROM CBIS-DDSM\n",
    "IMG_DIR = \"raw_images/CBIS-DDSM\"#FLIES THAT WE USED TO EXTRACT MMO IMAGES OF DIFFERENT CLASSES\n",
    "OUT_DIR = \"dataset\"#STORE DIFFERENT CASES OF MMO IMAGED"
   ]
  },
  {
   "cell_type": "code",
   "execution_count": 38,
   "id": "0ed3ac4f-04e1-4beb-ae16-3aed2c974f5d",
   "metadata": {},
   "outputs": [],
   "source": [
    "#Type of cases being created\n",
    "categories = {\n",
    "    'MALIGNANT': 'malignant',\n",
    "    'BENIGN_WITHOUT_CALLBACK': 'benign_no_callback',\n",
    "    'BENIGN': 'benign_callback',\n",
    "    'NORMAL': 'normal'\n",
    "}"
   ]
  },
  {
   "cell_type": "code",
   "execution_count": 39,
   "id": "342869c2-eac1-4744-a088-bd826ec7c529",
   "metadata": {},
   "outputs": [],
   "source": [
    "#Ensure different tyoe of cases created \n",
    "for cat in categories:\n",
    "    os.makedirs(os.path.join(OUT_DIR, cat), exist_ok=True)"
   ]
  },
  {
   "cell_type": "markdown",
   "id": "8c449f40-5b13-4ce7-a401-54d3d8f623d0",
   "metadata": {},
   "source": [
    "## CSV Files Preparation "
   ]
  },
  {
   "cell_type": "code",
   "execution_count": 40,
   "id": "dca63aa8-bd8e-44d5-ac1f-4c491a0bb621",
   "metadata": {},
   "outputs": [],
   "source": [
    "#Combine csv files from CBIS-DDSM\n",
    "cal_train_df = pd.read_csv(os.path.join(CSV_DIR, 'calc_case_description_train_set.csv'))\n",
    "mass_train_df = pd.read_csv(os.path.join(CSV_DIR, 'mass_case_description_train_set.csv'))\n",
    "cal_test_df = pd.read_csv(os.path.join(CSV_DIR, 'calc_case_description_test_set.csv'))\n",
    "mass_test_df = pd.read_csv(os.path.join(CSV_DIR, 'mass_case_description_test_set.csv'))\n",
    "df = pd.concat([cal_train_df, mass_train_df, cal_test_df, mass_test_df], ignore_index = True)"
   ]
  },
  {
   "cell_type": "markdown",
   "id": "62601206-bc75-4570-883d-b1dabcbc9224",
   "metadata": {},
   "source": [
    "### Preprocess of Data in CSV File "
   ]
  },
  {
   "cell_type": "code",
   "execution_count": 41,
   "id": "ada80a64-e860-4a36-92ad-c3c7f7308635",
   "metadata": {
    "scrolled": true
   },
   "outputs": [
    {
     "data": {
      "text/plain": [
       "<bound method DataFrame.count of      patient_id  breast density left or right breast image view  \\\n",
       "0       P_00005             3.0                RIGHT         CC   \n",
       "1       P_00005             3.0                RIGHT        MLO   \n",
       "2       P_00007             4.0                 LEFT         CC   \n",
       "3       P_00007             4.0                 LEFT        MLO   \n",
       "4       P_00008             1.0                 LEFT         CC   \n",
       "...         ...             ...                  ...        ...   \n",
       "3563    P_01825             NaN                RIGHT        MLO   \n",
       "3564    P_01833             NaN                RIGHT        MLO   \n",
       "3565    P_01865             NaN                 LEFT        MLO   \n",
       "3566    P_01912             NaN                RIGHT         CC   \n",
       "3567    P_01912             NaN                RIGHT        MLO   \n",
       "\n",
       "      abnormality id abnormality type    calc type calc distribution  \\\n",
       "0                  1    calcification    AMORPHOUS         CLUSTERED   \n",
       "1                  1    calcification    AMORPHOUS         CLUSTERED   \n",
       "2                  1    calcification  PLEOMORPHIC            LINEAR   \n",
       "3                  1    calcification  PLEOMORPHIC            LINEAR   \n",
       "4                  1    calcification          NaN          REGIONAL   \n",
       "...              ...              ...          ...               ...   \n",
       "3563               1             mass          NaN               NaN   \n",
       "3564               1             mass          NaN               NaN   \n",
       "3565               1             mass          NaN               NaN   \n",
       "3566               1             mass          NaN               NaN   \n",
       "3567               1             mass          NaN               NaN   \n",
       "\n",
       "      assessment                pathology  subtlety  \\\n",
       "0              3                MALIGNANT         3   \n",
       "1              3                MALIGNANT         3   \n",
       "2              4                   BENIGN         4   \n",
       "3              4                   BENIGN         4   \n",
       "4              2  BENIGN_WITHOUT_CALLBACK         3   \n",
       "...          ...                      ...       ...   \n",
       "3563           3  BENIGN_WITHOUT_CALLBACK         3   \n",
       "3564           5                MALIGNANT         5   \n",
       "3565           4                MALIGNANT         2   \n",
       "3566           5                MALIGNANT         4   \n",
       "3567           5                MALIGNANT         4   \n",
       "\n",
       "                                        image file path  \\\n",
       "0     Calc-Training_P_00005_RIGHT_CC/1.3.6.1.4.1.959...   \n",
       "1     Calc-Training_P_00005_RIGHT_MLO/1.3.6.1.4.1.95...   \n",
       "2     Calc-Training_P_00007_LEFT_CC/1.3.6.1.4.1.9590...   \n",
       "3     Calc-Training_P_00007_LEFT_MLO/1.3.6.1.4.1.959...   \n",
       "4     Calc-Training_P_00008_LEFT_CC/1.3.6.1.4.1.9590...   \n",
       "...                                                 ...   \n",
       "3563  Mass-Test_P_01825_RIGHT_MLO/1.3.6.1.4.1.9590.1...   \n",
       "3564  Mass-Test_P_01833_RIGHT_MLO/1.3.6.1.4.1.9590.1...   \n",
       "3565  Mass-Test_P_01865_LEFT_MLO/1.3.6.1.4.1.9590.10...   \n",
       "3566  Mass-Test_P_01912_RIGHT_CC/1.3.6.1.4.1.9590.10...   \n",
       "3567  Mass-Test_P_01912_RIGHT_MLO/1.3.6.1.4.1.9590.1...   \n",
       "\n",
       "                                cropped image file path  \\\n",
       "0     Calc-Training_P_00005_RIGHT_CC_1/1.3.6.1.4.1.9...   \n",
       "1     Calc-Training_P_00005_RIGHT_MLO_1/1.3.6.1.4.1....   \n",
       "2     Calc-Training_P_00007_LEFT_CC_1/1.3.6.1.4.1.95...   \n",
       "3     Calc-Training_P_00007_LEFT_MLO_1/1.3.6.1.4.1.9...   \n",
       "4     Calc-Training_P_00008_LEFT_CC_1/1.3.6.1.4.1.95...   \n",
       "...                                                 ...   \n",
       "3563  Mass-Test_P_01825_RIGHT_MLO_1/1.3.6.1.4.1.9590...   \n",
       "3564  Mass-Test_P_01833_RIGHT_MLO_1/1.3.6.1.4.1.9590...   \n",
       "3565  Mass-Test_P_01865_LEFT_MLO_1/1.3.6.1.4.1.9590....   \n",
       "3566  Mass-Test_P_01912_RIGHT_CC_1/1.3.6.1.4.1.9590....   \n",
       "3567  Mass-Test_P_01912_RIGHT_MLO_1/1.3.6.1.4.1.9590...   \n",
       "\n",
       "                                     ROI mask file path  breast_density  \\\n",
       "0     Calc-Training_P_00005_RIGHT_CC_1/1.3.6.1.4.1.9...             NaN   \n",
       "1     Calc-Training_P_00005_RIGHT_MLO_1/1.3.6.1.4.1....             NaN   \n",
       "2     Calc-Training_P_00007_LEFT_CC_1/1.3.6.1.4.1.95...             NaN   \n",
       "3     Calc-Training_P_00007_LEFT_MLO_1/1.3.6.1.4.1.9...             NaN   \n",
       "4     Calc-Training_P_00008_LEFT_CC_1/1.3.6.1.4.1.95...             NaN   \n",
       "...                                                 ...             ...   \n",
       "3563  Mass-Test_P_01825_RIGHT_MLO_1/1.3.6.1.4.1.9590...             2.0   \n",
       "3564  Mass-Test_P_01833_RIGHT_MLO_1/1.3.6.1.4.1.9590...             2.0   \n",
       "3565  Mass-Test_P_01865_LEFT_MLO_1/1.3.6.1.4.1.9590....             2.0   \n",
       "3566  Mass-Test_P_01912_RIGHT_CC_1/1.3.6.1.4.1.9590....             3.0   \n",
       "3567  Mass-Test_P_01912_RIGHT_MLO_1/1.3.6.1.4.1.9590...             3.0   \n",
       "\n",
       "     mass shape    mass margins  \n",
       "0           NaN             NaN  \n",
       "1           NaN             NaN  \n",
       "2           NaN             NaN  \n",
       "3           NaN             NaN  \n",
       "4           NaN             NaN  \n",
       "...         ...             ...  \n",
       "3563  LOBULATED  MICROLOBULATED  \n",
       "3564  IRREGULAR     ILL_DEFINED  \n",
       "3565  IRREGULAR     ILL_DEFINED  \n",
       "3566  IRREGULAR      SPICULATED  \n",
       "3567  IRREGULAR      SPICULATED  \n",
       "\n",
       "[3568 rows x 17 columns]>"
      ]
     },
     "execution_count": 41,
     "metadata": {},
     "output_type": "execute_result"
    }
   ],
   "source": [
    "df.count"
   ]
  },
  {
   "cell_type": "markdown",
   "id": "5f2bca40-5d77-4b40-a1ca-5ef20aa0f151",
   "metadata": {},
   "source": [
    "### Extract and Classify MLO-View DICOM Mammograms from CBIS-DDSM Dataset\n",
    "\n",
    "Filters the full dataset df to only include rows where the mammogram image view is MLO (Mediolateral Oblique), and saves the result into a new DataFrame called \"df_mlo\"."
   ]
  },
  {
   "cell_type": "code",
   "execution_count": 42,
   "id": "aa6b5000-b0e7-41e8-a995-cf6ad928db01",
   "metadata": {},
   "outputs": [],
   "source": [
    "#Ensure only MLO format of images bieng filtered \n",
    "df_mlo = df[df['image view'] == 'MLO']"
   ]
  },
  {
   "cell_type": "markdown",
   "id": "40e38666-f0ee-4a98-aa46-0bd17ebd08ab",
   "metadata": {},
   "source": [
    "### Index and Map All DICOM Files in CBIS-DDSM Directory\n",
    "\n",
    "Scan through the entire IMG_DIR directory and recursiely all folders contain .dcm files.It builds a dictionary, dicom_file_map, that maps the relative path (matching the structure used in the CSV metadata) to the absolute file path on disk."
   ]
  },
  {
   "cell_type": "code",
   "execution_count": 43,
   "id": "3621343b-ddb0-4088-80eb-b7dc82221ece",
   "metadata": {},
   "outputs": [
    {
     "name": "stdout",
     "output_type": "stream",
     "text": [
      "Indexing all DICOM files...\n"
     ]
    }
   ],
   "source": [
    "# Dictionary to store mapping of relative paths to full DICOM file paths\n",
    "print(\"Indexing all DICOM files...\")\n",
    "dicom_file_map = {}\n",
    "\n",
    "# Walk through the IMG_DIR directory and all its subdirectories\n",
    "for root, _, files in os.walk(IMG_DIR):\n",
    "    for file in files:\n",
    "        # Only process files with .dcm extension (DICOM format)\n",
    "        if file.endswith(\".dcm\"):\n",
    "            # Get relative path to match the CSV entry\n",
    "            rel_path = os.path.relpath(os.path.join(root, file), IMG_DIR)\n",
    "            rel_path = rel_path.replace(\"\\\\\", \"/\")  # Normalize slashes\n",
    "            dicom_file_map[rel_path] = os.path.join(root, file)"
   ]
  },
  {
   "cell_type": "markdown",
   "id": "3f9e7c9e-02a1-47a3-a357-b535b886dffc",
   "metadata": {},
   "source": [
    "### Convert of .dcm images format into PNG format"
   ]
  },
  {
   "cell_type": "code",
   "execution_count": 44,
   "id": "6765432d-f307-4e82-b97a-e53caaf33678",
   "metadata": {},
   "outputs": [],
   "source": [
    "# Function to convert a DICOM file (.dcm) into a PNG image\n",
    "def dicom_to_png(dcm_path, png_path):\n",
    "    try:\n",
    "        # Read the DICOM file using pydicom\n",
    "        dcm = pydicom.dcmread(dcm_path)\n",
    "        # Extract the pixel array and convert it to float for normalization\n",
    "        img = dcm.pixel_array.astype(float)\n",
    "        # Normalize the pixel values to the 0–255 range\n",
    "        img = (np.maximum(img, 0) / img.max()) * 255.0\n",
    "        # Convert the pixel values to unsigned 8-bit integers\n",
    "        img = np.uint8(img)\n",
    "        # Create a PIL image from the numpy array\n",
    "        im = Image.fromarray(img)\n",
    "        # Save the image to the specified PNG path\n",
    "        im.save(png_path)\n",
    "    except Exception as e:\n",
    "        print(f\"Error converting {dcm_path}: {e}\")"
   ]
  },
  {
   "cell_type": "markdown",
   "id": "90df070f-7543-4efb-a925-864f1f640eff",
   "metadata": {},
   "source": [
    "## Process and Finding Respective Path for .dcm Format and Perform PNG Conversion\n",
    "\n",
    "The function will process and find the respective .dcm file from IMG_DIR. The .dmc files will convert to png format and being downloaded and saved in OUT_DIR according to the 4 different cases. "
   ]
  },
  {
   "cell_type": "code",
   "execution_count": 36,
   "id": "62302cd4-c24c-47a7-929f-9e1fafe018fc",
   "metadata": {},
   "outputs": [
    {
     "name": "stdout",
     "output_type": "stream",
     "text": [
      "Organizing images...\n"
     ]
    },
    {
     "name": "stderr",
     "output_type": "stream",
     "text": [
      "100%|██████████| 1896/1896 [1:09:41<00:00,  2.21s/it]"
     ]
    },
    {
     "name": "stdout",
     "output_type": "stream",
     "text": [
      "Finished. Total not found: 0\n"
     ]
    },
    {
     "name": "stderr",
     "output_type": "stream",
     "text": [
      "\n"
     ]
    }
   ],
   "source": [
    "print(\"Organizing images...\")\n",
    "not_found = 0\n",
    "\n",
    "for _, row in tqdm(df_mlo.iterrows(), total=len(df_mlo)):\n",
    "    pathology = row['pathology']\n",
    "    target_class = categories.get(pathology)\n",
    "    if not target_class:\n",
    "        continue\n",
    "\n",
    "    patient_id = row['patient_id']\n",
    "    image_view = row['image view']\n",
    "\n",
    "    # Try to find a .dcm path that includes both patient_id and image view\n",
    "    matches = [\n",
    "        path for path in dicom_file_map.keys()\n",
    "        if patient_id in path and f\"{image_view}\" in path and \"full mammogram\" in path\n",
    "    ]\n",
    "\n",
    "    if not matches:\n",
    "        not_found += 1\n",
    "        print(f\"No match for: {patient_id}, {image_view}\")\n",
    "        continue\n",
    "\n",
    "    # Take first match\n",
    "    image_rel_path = matches[0]\n",
    "    source_path = dicom_file_map[image_rel_path]\n",
    "\n",
    "    # Construct path to save\n",
    "    dest_file = f\"{patient_id}_{image_view}.png\"\n",
    "    class_folder = os.path.join(OUT_DIR, target_class)\n",
    "    dest_path = os.path.join(class_folder, dest_file)\n",
    "\n",
    "    # Ensure class folder exists\n",
    "    os.makedirs(class_folder, exist_ok=True)\n",
    "\n",
    "    # Convert to PNG\n",
    "    dicom_to_png(source_path, dest_path)\n",
    "\n",
    "print(f\"Finished. Total not found: {not_found}\")\n",
    "\n"
   ]
  }
 ],
 "metadata": {
  "kernelspec": {
   "display_name": "Python 3 (ipykernel)",
   "language": "python",
   "name": "python3"
  },
  "language_info": {
   "codemirror_mode": {
    "name": "ipython",
    "version": 3
   },
   "file_extension": ".py",
   "mimetype": "text/x-python",
   "name": "python",
   "nbconvert_exporter": "python",
   "pygments_lexer": "ipython3",
   "version": "3.12.7"
  }
 },
 "nbformat": 4,
 "nbformat_minor": 5
}
