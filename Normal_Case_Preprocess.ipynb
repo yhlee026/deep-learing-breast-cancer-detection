{
 "cells": [
  {
   "cell_type": "code",
   "execution_count": 3,
   "id": "00ed07e1-ecbb-44c8-8ec8-25c999b0bff4",
   "metadata": {},
   "outputs": [],
   "source": [
    "import pandas as pd\n",
    "import shutil\n",
    "import os\n",
    "from PIL import Image"
   ]
  },
  {
   "cell_type": "code",
   "execution_count": 2,
   "id": "ba9c82e1-8e5c-46eb-8fbd-199d0ccada91",
   "metadata": {},
   "outputs": [
    {
     "data": {
      "text/html": [
       "<div>\n",
       "<style scoped>\n",
       "    .dataframe tbody tr th:only-of-type {\n",
       "        vertical-align: middle;\n",
       "    }\n",
       "\n",
       "    .dataframe tbody tr th {\n",
       "        vertical-align: top;\n",
       "    }\n",
       "\n",
       "    .dataframe thead th {\n",
       "        text-align: right;\n",
       "    }\n",
       "</style>\n",
       "<table border=\"1\" class=\"dataframe\">\n",
       "  <thead>\n",
       "    <tr style=\"text-align: right;\">\n",
       "      <th></th>\n",
       "      <th>REFNUM</th>\n",
       "      <th>BG</th>\n",
       "      <th>CLASS</th>\n",
       "      <th>SEVERITY</th>\n",
       "      <th>X</th>\n",
       "      <th>Y</th>\n",
       "      <th>RADIUS</th>\n",
       "    </tr>\n",
       "  </thead>\n",
       "  <tbody>\n",
       "    <tr>\n",
       "      <th>0</th>\n",
       "      <td>mdb001</td>\n",
       "      <td>G</td>\n",
       "      <td>CIRC</td>\n",
       "      <td>B</td>\n",
       "      <td>535.0</td>\n",
       "      <td>425.0</td>\n",
       "      <td>197.0</td>\n",
       "    </tr>\n",
       "    <tr>\n",
       "      <th>1</th>\n",
       "      <td>mdb002</td>\n",
       "      <td>G</td>\n",
       "      <td>CIRC</td>\n",
       "      <td>B</td>\n",
       "      <td>522.0</td>\n",
       "      <td>280.0</td>\n",
       "      <td>69.0</td>\n",
       "    </tr>\n",
       "    <tr>\n",
       "      <th>2</th>\n",
       "      <td>mdb003</td>\n",
       "      <td>D</td>\n",
       "      <td>NORM</td>\n",
       "      <td>NaN</td>\n",
       "      <td>NaN</td>\n",
       "      <td>NaN</td>\n",
       "      <td>NaN</td>\n",
       "    </tr>\n",
       "    <tr>\n",
       "      <th>3</th>\n",
       "      <td>mdb004</td>\n",
       "      <td>D</td>\n",
       "      <td>NORM</td>\n",
       "      <td>NaN</td>\n",
       "      <td>NaN</td>\n",
       "      <td>NaN</td>\n",
       "      <td>NaN</td>\n",
       "    </tr>\n",
       "    <tr>\n",
       "      <th>4</th>\n",
       "      <td>mdb005</td>\n",
       "      <td>F</td>\n",
       "      <td>CIRC</td>\n",
       "      <td>B</td>\n",
       "      <td>477.0</td>\n",
       "      <td>133.0</td>\n",
       "      <td>30.0</td>\n",
       "    </tr>\n",
       "  </tbody>\n",
       "</table>\n",
       "</div>"
      ],
      "text/plain": [
       "   REFNUM BG CLASS SEVERITY      X      Y  RADIUS\n",
       "0  mdb001  G  CIRC        B  535.0  425.0   197.0\n",
       "1  mdb002  G  CIRC        B  522.0  280.0    69.0\n",
       "2  mdb003  D  NORM      NaN    NaN    NaN     NaN\n",
       "3  mdb004  D  NORM      NaN    NaN    NaN     NaN\n",
       "4  mdb005  F  CIRC        B  477.0  133.0    30.0"
      ]
     },
     "execution_count": 2,
     "metadata": {},
     "output_type": "execute_result"
    }
   ],
   "source": [
    "normal_path = \"normal_case_preprocess/mias_info.csv\"\n",
    "df_info = pd.read_csv(normal_path)\n",
    "\n",
    "df_info.head()"
   ]
  },
  {
   "cell_type": "code",
   "execution_count": 6,
   "id": "704ad6c1-aefc-4b4f-aa9c-d165a70f9a4b",
   "metadata": {},
   "outputs": [],
   "source": [
    "#Define source directory where original normal case image stored in MIAS\n",
    "image_dir = \"normal_case_preprocess/MIAS\"\n",
    "normal_dir = \"resize_dataset/Normal\"\n",
    "os.makedirs(normal_dir, exist_ok=True)\n",
    "\n",
    "normal_df = df_info[df_info['CLASS'] == 'NORM']\n",
    "normal_ids = normal_df['REFNUM'].tolist()\n",
    "# Initialize a list to store paths of successfully processed files\n",
    "copied_files =[]\n",
    "#looop through each nomral case ID\n",
    "for img_id in normal_ids:\n",
    "    src_file = os.path.join(image_dir, f\"{img_id}.png\")\n",
    "    dst_file = os.path.join(normal_dir, f\"{img_id}.png\")\n",
    "    if os.path.exists(src_file):\n",
    "        shutil.copy(src_file,dst_file)\n",
    "        try:\n",
    "            img = Image.open(dst_file)\n",
    "            # Resize the image to 244x244 pixels using high-quality resampling\n",
    "            img_resized = img.resize((244,244),Image.Resampling.LANCZOS)\n",
    "            img_resized.save (dst_file)\n",
    "            copied_files.append(dst_file)\n",
    "        except Exception as e:\n",
    "            print(f\"Error processing {dst_file}: {e}\")\n",
    "    "
   ]
  },
  {
   "cell_type": "code",
   "execution_count": 7,
   "id": "936a2148-a7ba-44e7-8c61-02f191d8dfb3",
   "metadata": {},
   "outputs": [
    {
     "name": "stdout",
     "output_type": "stream",
     "text": [
      "Total normal images found: 207\n",
      "Sample normal images: ['mdb003.png', 'mdb004.png', 'mdb006.png', 'mdb007.png', 'mdb008.png']\n"
     ]
    }
   ],
   "source": [
    "normal_images = os.listdir(normal_dir)\n",
    "print(f\"Total normal images found: {len(normal_images)}\")\n",
    "print(\"Sample normal images:\", normal_images[:5])"
   ]
  }
 ],
 "metadata": {
  "kernelspec": {
   "display_name": "Python 3 (ipykernel)",
   "language": "python",
   "name": "python3"
  },
  "language_info": {
   "codemirror_mode": {
    "name": "ipython",
    "version": 3
   },
   "file_extension": ".py",
   "mimetype": "text/x-python",
   "name": "python",
   "nbconvert_exporter": "python",
   "pygments_lexer": "ipython3",
   "version": "3.12.7"
  }
 },
 "nbformat": 4,
 "nbformat_minor": 5
}
